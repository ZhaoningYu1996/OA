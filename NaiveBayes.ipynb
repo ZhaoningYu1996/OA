{
 "cells": [
  {
   "cell_type": "code",
   "execution_count": 1,
   "metadata": {},
   "outputs": [],
   "source": [
    "import math\n",
    "\n",
    "def gaussian_pdf(x, mean, std):\n",
    "    exponent = math.exp(-((x - mean) ** 2 / (2 * std ** 2)))\n",
    "    return (1 / (math.sqrt(2 * math.pi) * std)) * exponent"
   ]
  },
  {
   "cell_type": "code",
   "execution_count": 2,
   "metadata": {},
   "outputs": [],
   "source": [
    "def separate_by_class(dataset):\n",
    "    separated = {}\n",
    "    for i in range(len(dataset)):\n",
    "        vector = dataset[i]\n",
    "        class_value = vector[-1]\n",
    "        if class_value not in separated:\n",
    "            separated[class_value] = []\n",
    "        separated[class_value].append(vector)\n",
    "    return separated"
   ]
  },
  {
   "cell_type": "code",
   "execution_count": 3,
   "metadata": {},
   "outputs": [],
   "source": [
    "def summarize_dataset(dataset):\n",
    "    summaries = [(mean(column), stdev(column), len(column)) for column in zip(*dataset)]\n",
    "    del summaries[-1]  # Exclude label column\n",
    "    return summaries\n",
    "\n",
    "def mean(numbers):\n",
    "    return sum(numbers) / float(len(numbers))\n",
    "\n",
    "def stdev(numbers):\n",
    "    avg = mean(numbers)\n",
    "    variance = sum([(x - avg) ** 2 for x in numbers]) / float(len(numbers) - 1)\n",
    "    return math.sqrt(variance)"
   ]
  },
  {
   "cell_type": "code",
   "execution_count": 4,
   "metadata": {},
   "outputs": [],
   "source": [
    "def summarize_by_class(dataset):\n",
    "    separated = separate_by_class(dataset)\n",
    "    summaries = {}\n",
    "    for class_value, rows in separated.items():\n",
    "        summaries[class_value] = summarize_dataset(rows)\n",
    "    return summaries"
   ]
  },
  {
   "cell_type": "code",
   "execution_count": 5,
   "metadata": {},
   "outputs": [],
   "source": [
    "def calculate_class_probabilities(summaries, row):\n",
    "    total_rows = sum([summaries[label][0][2] for label in summaries])\n",
    "    probabilities = {}\n",
    "    for class_value, class_summaries in summaries.items():\n",
    "        probabilities[class_value] = math.log(summaries[class_value][0][2] / float(total_rows))\n",
    "        for i in range(len(class_summaries)):\n",
    "            mean, stdev, _ = class_summaries[i]\n",
    "            probabilities[class_value] += math.log(gaussian_pdf(row[i], mean, stdev))\n",
    "    return probabilities\n",
    "\n",
    "\n",
    "def predict(summaries, row):\n",
    "    probabilities = calculate_class_probabilities(summaries, row)\n",
    "    best_label, best_prob = None, -1\n",
    "    for class_value, probability in probabilities.items():\n",
    "        if best_label is None or probability > best_prob:\n",
    "            best_prob = probability\n",
    "            best_label = class_value\n",
    "    return best_label\n",
    "\n",
    "def gaussian_naive_bayes(train, test):\n",
    "    summarize = summarize_by_class(train)\n",
    "    predictions = []\n",
    "    for row in test:\n",
    "        output = predict(summarize, row)\n",
    "        predictions.append(output)\n",
    "    return(predictions)"
   ]
  },
  {
   "cell_type": "code",
   "execution_count": 6,
   "metadata": {},
   "outputs": [
    {
     "name": "stdout",
     "output_type": "stream",
     "text": [
      "[0, 0, 1]\n"
     ]
    }
   ],
   "source": [
    "# Example Data\n",
    "# Features: [feature1, feature2, ..., label]\n",
    "dataset = [\n",
    "    [3.393533211, 2.331273381, 0],\n",
    "    [3.110073483, 1.781539638, 0],\n",
    "    [1.343808831, 3.368360954, 0],\n",
    "    [3.582294042, 4.67917911, 0],\n",
    "    [2.280362439, 2.866990263, 0],\n",
    "    [7.423436942, 4.696522875, 1],\n",
    "    [5.745051997, 3.533989803, 1],\n",
    "    [9.172168622, 2.511101045, 1],\n",
    "    [7.792783481, 3.424088941, 1],\n",
    "    [7.939820817, 0.791637231, 1]\n",
    "]\n",
    "\n",
    "# Train model\n",
    "model = summarize_by_class(dataset)\n",
    "\n",
    "# Test model\n",
    "test_set = [[3.393533211, 2.331273381], [2.280362439, 2.866990263], [7.792783481, 3.424088941]]\n",
    "predictions = [predict(model, row) for row in test_set]\n",
    "print(predictions)\n"
   ]
  }
 ],
 "metadata": {
  "kernelspec": {
   "display_name": "base",
   "language": "python",
   "name": "python3"
  },
  "language_info": {
   "codemirror_mode": {
    "name": "ipython",
    "version": 3
   },
   "file_extension": ".py",
   "mimetype": "text/x-python",
   "name": "python",
   "nbconvert_exporter": "python",
   "pygments_lexer": "ipython3",
   "version": "3.9.18"
  }
 },
 "nbformat": 4,
 "nbformat_minor": 2
}
