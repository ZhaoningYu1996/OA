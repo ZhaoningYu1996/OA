{
 "cells": [
  {
   "cell_type": "markdown",
   "metadata": {},
   "source": [
    "Sigmoid Function"
   ]
  },
  {
   "cell_type": "code",
   "execution_count": 2,
   "metadata": {},
   "outputs": [],
   "source": [
    "import numpy as np\n",
    "\n",
    "def sigmoid(z):\n",
    "    return 1.0/(1 + np.exp(-z))"
   ]
  },
  {
   "cell_type": "code",
   "execution_count": null,
   "metadata": {},
   "outputs": [],
   "source": [
    "import math\n",
    "\n",
    "def sigmoid(x):\n",
    "    return 1 / (1 + math.exp(-x))"
   ]
  },
  {
   "cell_type": "markdown",
   "metadata": {},
   "source": [
    "Cost Function"
   ]
  },
  {
   "cell_type": "code",
   "execution_count": 3,
   "metadata": {},
   "outputs": [],
   "source": [
    "def compute_cost(X, y, weights):\n",
    "    m = len(y)\n",
    "    y_pred = sigmoid(np.dot(X, weights))\n",
    "    cost = (-1/m) * np.sum(y * np.log(y_pred) + (1 - y) * np.log(1 - y_pred))\n",
    "    return cost"
   ]
  },
  {
   "cell_type": "markdown",
   "metadata": {},
   "source": [
    "Gradient Descent"
   ]
  },
  {
   "cell_type": "code",
   "execution_count": 4,
   "metadata": {},
   "outputs": [],
   "source": [
    "def gradient_descent(X, y, weights, alpha, iterations):\n",
    "    m = len(y)\n",
    "    cost_history = []\n",
    "\n",
    "    for _ in range(iterations):\n",
    "        y_pred = sigmoid(np.dot(X, weights))\n",
    "        gradient = np.dot(X.T, (y_pred - y)) / m\n",
    "        weights -= alpha * gradient\n",
    "        cost = compute_cost(X, y, weights)\n",
    "        cost_history.append(cost)\n",
    "\n",
    "    return weights, cost_history"
   ]
  },
  {
   "cell_type": "markdown",
   "metadata": {},
   "source": [
    "Train the model"
   ]
  },
  {
   "cell_type": "code",
   "execution_count": 5,
   "metadata": {},
   "outputs": [],
   "source": [
    "def train_logistic_regression(X, y, alpha, iterations):\n",
    "    weights = np.zeros(X.shape[1])\n",
    "    weights, cost_history = gradient_descent(X, y, weights, alpha, iterations)\n",
    "    return weights, cost_history"
   ]
  },
  {
   "cell_type": "markdown",
   "metadata": {},
   "source": [
    "Making Prediction"
   ]
  },
  {
   "cell_type": "code",
   "execution_count": 6,
   "metadata": {},
   "outputs": [],
   "source": [
    "def predict(X, weights):\n",
    "    predictions = sigmoid(np.dot(X, weights))\n",
    "    return [1 if i > 0.5 else 0 for i in predictions]"
   ]
  },
  {
   "cell_type": "markdown",
   "metadata": {},
   "source": [
    "Normalization"
   ]
  },
  {
   "cell_type": "code",
   "execution_count": 16,
   "metadata": {},
   "outputs": [],
   "source": [
    "def standardize_numpy(X):\n",
    "    means = np.mean(X, axis=0)\n",
    "    std_devs = np.std(X, axis=0)\n",
    "    return (X - means) / std_devs"
   ]
  },
  {
   "cell_type": "markdown",
   "metadata": {},
   "source": [
    "Sample"
   ]
  },
  {
   "cell_type": "code",
   "execution_count": 18,
   "metadata": {},
   "outputs": [
    {
     "data": {
      "text/plain": [
       "[0, 0, 0, 0, 1, 1, 1, 1]"
      ]
     },
     "execution_count": 18,
     "metadata": {},
     "output_type": "execute_result"
    }
   ],
   "source": [
    "# Example Data (X must include a column of 1s for the intercept)\n",
    "X_class1 = [[1, 2], [2, 3], [3, 5], [4, 5]]\n",
    "y_class1 = [0, 0, 0, 0]  # Label for class 1\n",
    "\n",
    "# Class 2\n",
    "X_class2 = [[6, 8], [7, 8], [8, 10], [9, 11]]\n",
    "y_class2 = [1, 1, 1, 1]  # Label for class 2\n",
    "\n",
    "# Combine data\n",
    "X = np.array(X_class1 + X_class2)\n",
    "y = np.array(y_class1 + y_class2)\n",
    "X = standardize_numpy(X)\n",
    "\n",
    "alpha = 0.01  # Learning rate\n",
    "iterations = 1000  # Number of iterations\n",
    "\n",
    "# Training the Model\n",
    "weights, cost_history = train_logistic_regression(X, y, alpha, iterations)\n",
    "\n",
    "# Making Predictions\n",
    "predictions = predict(X, weights)\n",
    "predictions"
   ]
  },
  {
   "cell_type": "markdown",
   "metadata": {},
   "source": [
    "Without Numpy"
   ]
  },
  {
   "cell_type": "code",
   "execution_count": 19,
   "metadata": {},
   "outputs": [],
   "source": [
    "import math\n",
    "\n",
    "def sigmoid(x):\n",
    "    return 1 / (1 + math.exp(-x))"
   ]
  },
  {
   "cell_type": "code",
   "execution_count": 20,
   "metadata": {},
   "outputs": [],
   "source": [
    "def dot_product(v1, v2):\n",
    "    return sum(x1 * x2 for x1, x2 in zip(v1, v2))\n",
    "\n",
    "def matrix_multiply(mat, vec):\n",
    "    return [dot_product(row, vec) for row in mat]\n",
    "\n",
    "def transpose(matrix):\n",
    "    return [list(row) for row in zip(*matrix)]"
   ]
  },
  {
   "cell_type": "code",
   "execution_count": 21,
   "metadata": {},
   "outputs": [],
   "source": [
    "def compute_cost(X, y, weights):\n",
    "    m = len(y)\n",
    "    y_pred = [sigmoid(dot_product(X[i], weights)) for i in range(m)]\n",
    "    cost = (-1/m) * sum(y[i] * math.log(y_pred[i]) + (1 - y[i]) * math.log(1 - y_pred[i]) for i in range(m))\n",
    "    return cost"
   ]
  },
  {
   "cell_type": "code",
   "execution_count": 22,
   "metadata": {},
   "outputs": [],
   "source": [
    "def gradient_descent(X, y, weights, alpha, iterations):\n",
    "    m = len(y)\n",
    "    cost_history = []\n",
    "\n",
    "    for _ in range(iterations):\n",
    "        y_pred = [sigmoid(dot_product(X[i], weights)) for i in range(m)]\n",
    "        gradient = [0 for _ in range(len(weights))]\n",
    "        for j in range(len(weights)):\n",
    "            gradient[j] = sum((y_pred[i] - y[i]) * X[i][j] for i in range(m)) / m\n",
    "        weights = [weights[j] - alpha * gradient[j] for j in range(len(weights))]\n",
    "        cost = compute_cost(X, y, weights)\n",
    "        cost_history.append(cost)\n",
    "\n",
    "    return weights, cost_history"
   ]
  },
  {
   "cell_type": "code",
   "execution_count": 23,
   "metadata": {},
   "outputs": [],
   "source": [
    "def train_logistic_regression(X, y, alpha, iterations):\n",
    "    weights = [0 for _ in range(len(X[0]))]  # Initialize weights\n",
    "    weights, cost_history = gradient_descent(X, y, weights, alpha, iterations)\n",
    "    return weights, cost_history"
   ]
  },
  {
   "cell_type": "code",
   "execution_count": 24,
   "metadata": {},
   "outputs": [],
   "source": [
    "def predict(X, weights):\n",
    "    predictions = [sigmoid(dot_product(X[i], weights)) for i in range(len(X))]\n",
    "    return [1 if i > 0.5 else 0 for i in predictions]"
   ]
  },
  {
   "cell_type": "code",
   "execution_count": 29,
   "metadata": {},
   "outputs": [],
   "source": [
    "def standardize(X):\n",
    "    means = [sum(feature) / len(feature) for feature in zip(*X)]\n",
    "    std_devs = [max(1e-7, math.sqrt(sum((x_i - mean) ** 2 for x_i in feature) / len(feature))) for feature, mean in zip(zip(*X), means)]\n",
    "    \n",
    "    standardized_X = [[(x_i - mean) / std_dev for x_i, mean, std_dev in zip(row, means, std_devs)] for row in X]\n",
    "    return standardized_X"
   ]
  },
  {
   "cell_type": "code",
   "execution_count": 31,
   "metadata": {},
   "outputs": [
    {
     "name": "stdout",
     "output_type": "stream",
     "text": [
      "[0, 0, 0, 0, 1, 1, 1, 1]\n"
     ]
    }
   ],
   "source": [
    "# Example Data (X should include a column of 1s for the intercept)\n",
    "X_class1 = [[1, 2], [2, 3], [3, 5], [4, 5]]\n",
    "y_class1 = [0, 0, 0, 0]  # Label for class 1\n",
    "\n",
    "# Class 2\n",
    "X_class2 = [[6, 8], [7, 8], [8, 10], [9, 11]]\n",
    "y_class2 = [1, 1, 1, 1]  # Label for class 2\n",
    "\n",
    "# Combine data\n",
    "X = X_class1 + X_class2\n",
    "y = y_class1 + y_class2\n",
    "\n",
    "X = standardize(X)\n",
    "\n",
    "alpha = 0.01  # Learning rate\n",
    "iterations = 10  # Number of iterations\n",
    "\n",
    "# Training the Model\n",
    "weights, cost_history = train_logistic_regression(X, y, alpha, iterations)\n",
    "\n",
    "# Making Predictions\n",
    "predictions = predict(X, weights)\n",
    "print(predictions)"
   ]
  }
 ],
 "metadata": {
  "kernelspec": {
   "display_name": "base",
   "language": "python",
   "name": "python3"
  },
  "language_info": {
   "codemirror_mode": {
    "name": "ipython",
    "version": 3
   },
   "file_extension": ".py",
   "mimetype": "text/x-python",
   "name": "python",
   "nbconvert_exporter": "python",
   "pygments_lexer": "ipython3",
   "version": "3.9.18"
  }
 },
 "nbformat": 4,
 "nbformat_minor": 2
}
