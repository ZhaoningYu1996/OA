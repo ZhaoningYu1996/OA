{
 "cells": [
  {
   "cell_type": "markdown",
   "metadata": {},
   "source": [
    "With numpy information gain"
   ]
  },
  {
   "cell_type": "code",
   "execution_count": 1,
   "metadata": {},
   "outputs": [],
   "source": [
    "import math\n",
    "def entropy(y):\n",
    "    class_counts = {}\n",
    "    for label in y:\n",
    "        class_counts[label] = class_counts.get(label, 0) + 1\n",
    "    entropy = 0.0\n",
    "    for label in class_counts:\n",
    "        p = class_counts[label] / len(y)\n",
    "        entropy -= p * math.log2(p)\n",
    "    return entropy\n",
    "\n",
    "def information_gain(y, mask, feature_value):\n",
    "    # Split y into two parts\n",
    "    y_left = [y[i] for i in range(len(y)) if mask[i] == feature_value]\n",
    "    y_right = [y[i] for i in range(len(y)) if mask[i] != feature_value]\n",
    "    p = len(y_left) / len(y)\n",
    "    info_gain = entropy(y) - p * entropy(y_left) - (1 - p) * entropy(y_right)\n",
    "    return info_gain"
   ]
  },
  {
   "cell_type": "code",
   "execution_count": null,
   "metadata": {},
   "outputs": [],
   "source": [
    "def build_tree(X, y, features):\n",
    "    # If only one class left, or no feature to split, return a leaf node\n",
    "    if len(set(y)) == 1 or len(features) == 0:\n",
    "        return max(set(y), key=y.count)\n",
    "    \n",
    "    # Select the best feature to split\n",
    "    best_feature = None\n",
    "    best_gain = 0\n",
    "    for feature in features:\n",
    "        mask = [x[feature] for x in X]\n",
    "        unique_values = set(mask)\n",
    "        for value in unique_values:\n",
    "            gain = information_gain(y, mask, value)\n",
    "            if gain > best_gain:\n",
    "                best_gain = gain\n",
    "                best_feature = (feature, value)\n",
    "\n",
    "    if best_feature is None:\n",
    "        return max(set(y), key=y.count)\n",
    "    \n",
    "    # Split dataset\n",
    "    left_mask = [x[best_feature[0]] == best_feature[1] for x in X]\n",
    "    right_mask = [x[best_feature[0]] != best_feature[1] for x in X]\n",
    "    left_X = [X[i] for i in range(len(X)) if left_mask[i]]\n",
    "    right_X = [X[i] for i in range(len(X)) if right_mask[i]]\n",
    "    left_y = [y[i] for i in range(len(y)) if left_mask[i]]\n",
    "    right_y = [y[i] for i in range(len(y)) if right_mask[i]]\n",
    "    \n",
    "    # Recursively build left and right branches\n",
    "    left_branch = build_tree(left_X, left_y, features - {best_feature[0]})\n",
    "    right_branch = build_tree(right_X, right_y, features - {best_feature[0]})\n",
    "\n",
    "    return {best_feature: {'left': left_branch, 'right': right_branch}}\n"
   ]
  },
  {
   "cell_type": "code",
   "execution_count": null,
   "metadata": {},
   "outputs": [],
   "source": [
    "def predict(tree, x):\n",
    "    for (feature, value), branches in tree.items():\n",
    "        if x[feature] == value:\n",
    "            if isinstance(branches['left'], dict):\n",
    "                return predict(branches['left'], x)\n",
    "            else:\n",
    "                return branches['left']\n",
    "        else:\n",
    "            if isinstance(branches['right'], dict):\n",
    "                return predict(branches['right'], x)\n",
    "            else:\n",
    "                return branches['right']\n"
   ]
  },
  {
   "cell_type": "code",
   "execution_count": null,
   "metadata": {},
   "outputs": [],
   "source": [
    "# Sample multi-class dataset\n",
    "X = [[0, 1], [1, 0], [1, 1], [0, 0], [1, 1], [1, 0]]\n",
    "y = [0, 1, 2, 0, 2, 1]  # Target labels with more than two classes\n",
    "\n",
    "# Build the decision tree\n",
    "features = set(range(len(X[0])))  # Assuming all features are numerical\n",
    "tree = build_tree(X, y, features)\n",
    "\n",
    "# Predict for a new instance\n",
    "sample = [1, 0]\n",
    "prediction = predict(tree, sample)\n",
    "print(\"Prediction:\", prediction)\n"
   ]
  },
  {
   "cell_type": "code",
   "execution_count": 2,
   "metadata": {},
   "outputs": [],
   "source": [
    "class TreeNode:\n",
    "    def __init__(self, feature=None, value=None, left=None, right=None, label=None):\n",
    "        self.feature = feature  # Feature index on which to split\n",
    "        self.value = value      # Value of the feature to split on\n",
    "        self.left = left        # Left child (TreeNode)\n",
    "        self.right = right      # Right child (TreeNode)\n",
    "        self.label = label      # Label to predict if it's a leaf node"
   ]
  },
  {
   "cell_type": "code",
   "execution_count": 3,
   "metadata": {},
   "outputs": [],
   "source": [
    "def build_tree(X, y, features):\n",
    "    # If only one class left, or no feature to split, return a leaf node\n",
    "    if len(set(y)) == 1 or len(features) == 0:\n",
    "        return TreeNode(label=max(set(y), key=y.count))\n",
    "    \n",
    "    # Select the best feature to split\n",
    "    best_feature = None\n",
    "    best_gain = 0\n",
    "    for feature in features:\n",
    "        mask = [x[feature] for x in X]\n",
    "        unique_values = set(mask)\n",
    "        for value in unique_values:\n",
    "            gain = information_gain(y, mask, value)\n",
    "            if gain > best_gain:\n",
    "                best_gain = gain\n",
    "                best_feature = feature\n",
    "                best_value = value\n",
    "\n",
    "    if best_feature is None:\n",
    "        return TreeNode(label=max(set(y), key=y.count))\n",
    "    \n",
    "    # Split dataset\n",
    "    left_indices = [i for i in range(len(X)) if X[i][best_feature] == best_value]\n",
    "    right_indices = [i for i in range(len(X)) if X[i][best_feature] != best_value]\n",
    "\n",
    "    left_X = [X[i] for i in left_indices]\n",
    "    right_X = [X[i] for i in right_indices]\n",
    "    left_y = [y[i] for i in left_indices]\n",
    "    right_y = [y[i] for i in right_indices]\n",
    "    \n",
    "    # Recursively build left and right branches\n",
    "    left_branch = build_tree(left_X, left_y, features - {best_feature})\n",
    "    right_branch = build_tree(right_X, right_y, features - {best_feature})\n",
    "\n",
    "    return TreeNode(feature=best_feature, value=best_value, left=left_branch, right=right_branch)\n"
   ]
  },
  {
   "cell_type": "code",
   "execution_count": 4,
   "metadata": {},
   "outputs": [],
   "source": [
    "def predict(tree_node, x):\n",
    "    if tree_node.label is not None:\n",
    "        return tree_node.label\n",
    "    if x[tree_node.feature] == tree_node.value:\n",
    "        return predict(tree_node.left, x)\n",
    "    else:\n",
    "        return predict(tree_node.right, x)"
   ]
  },
  {
   "cell_type": "code",
   "execution_count": null,
   "metadata": {},
   "outputs": [],
   "source": [
    "def gini_impurity(y):\n",
    "    class_counts = {}\n",
    "    for label in y:\n",
    "        class_counts[label] = class_counts.get(label, 0) + 1\n",
    "    impurity = 1\n",
    "    for label in class_counts:\n",
    "        prob_of_lbl = class_counts[label] / float(len(y))\n",
    "        impurity -= prob_of_lbl**2\n",
    "    return impurity\n",
    "\n",
    "def gini_gain(y, mask, feature_value):\n",
    "    # Split y into two parts\n",
    "    y_left = [y[i] for i in range(len(y)) if mask[i] == feature_value]\n",
    "    y_right = [y[i] for i in range(len(y)) if mask[i] != feature_value]\n",
    "    p = len(y_left) / len(y)\n",
    "    gain = gini_impurity(y) - p * gini_impurity(y_left) - (1 - p) * gini_impurity(y_right)\n",
    "    return gain\n"
   ]
  },
  {
   "cell_type": "code",
   "execution_count": 6,
   "metadata": {},
   "outputs": [
    {
     "name": "stdout",
     "output_type": "stream",
     "text": [
      "Prediction: 2\n"
     ]
    }
   ],
   "source": [
    "# Sample multi-class dataset\n",
    "X = [[0, 1], [1, 0], [1, 1], [0, 0], [1, 1], [1, 0]]\n",
    "y = [0, 1, 2, 0, 2, 1]  # Target labels with more than two classes\n",
    "\n",
    "# Build the decision tree\n",
    "features = set(range(len(X[0])))  # Assuming all features are numerical\n",
    "tree = build_tree(X, y, features)\n",
    "\n",
    "# Predict for a new instance\n",
    "sample = [1, 1]\n",
    "prediction = predict(tree, sample)\n",
    "print(\"Prediction:\", prediction)"
   ]
  }
 ],
 "metadata": {
  "kernelspec": {
   "display_name": "base",
   "language": "python",
   "name": "python3"
  },
  "language_info": {
   "codemirror_mode": {
    "name": "ipython",
    "version": 3
   },
   "file_extension": ".py",
   "mimetype": "text/x-python",
   "name": "python",
   "nbconvert_exporter": "python",
   "pygments_lexer": "ipython3",
   "version": "3.9.18"
  }
 },
 "nbformat": 4,
 "nbformat_minor": 2
}
