{
 "cells": [
  {
   "cell_type": "markdown",
   "metadata": {},
   "source": [
    "Feature Normalization"
   ]
  },
  {
   "cell_type": "code",
   "execution_count": 3,
   "metadata": {},
   "outputs": [],
   "source": [
    "def standardize(data):\n",
    "    means = [sum(feature) / len(feature) for feature in zip(*data)]\n",
    "    std_devs = [max(1e-7, (sum((x_i - mean) ** 2 for x_i in feature) / len(feature)) ** 0.5) for feature, mean in zip(zip(*data), means)]\n",
    "    standardized_data = [[(x_i - mean) / std_dev for x_i, mean, std_dev in zip(row, means, std_devs)] for row in data]\n",
    "    return standardized_data"
   ]
  },
  {
   "cell_type": "markdown",
   "metadata": {},
   "source": [
    "Initialization"
   ]
  },
  {
   "cell_type": "code",
   "execution_count": 4,
   "metadata": {},
   "outputs": [],
   "source": [
    "import random\n",
    "\n",
    "def initialize_centroids(data, k):\n",
    "    centroids = random.sample(data, k)\n",
    "    return centroids"
   ]
  },
  {
   "cell_type": "markdown",
   "metadata": {},
   "source": [
    "Assignment Step"
   ]
  },
  {
   "cell_type": "code",
   "execution_count": 5,
   "metadata": {},
   "outputs": [],
   "source": [
    "def euclidean_distance(point1, point2):\n",
    "    return sum((p1 - p2) ** 2 for p1, p2 in zip(point1, point2)) ** 0.5\n",
    "\n",
    "def assign_points_to_centroids(data, centroids):\n",
    "    clusters = [[] for _ in range(len(centroids))]\n",
    "    for point in data:\n",
    "        distances = [euclidean_distance(point, centroid) for centroid in centroids]\n",
    "        closest_centroid = distances.index(min(distances))\n",
    "        clusters[closest_centroid].append(point)\n",
    "    return clusters"
   ]
  },
  {
   "cell_type": "markdown",
   "metadata": {},
   "source": [
    "Update Step"
   ]
  },
  {
   "cell_type": "code",
   "execution_count": 7,
   "metadata": {},
   "outputs": [],
   "source": [
    "def calculate_new_centroids(clusters):\n",
    "    centroids = []\n",
    "    for cluster in clusters:\n",
    "        new_centroid = [sum(feature) / len(feature) for feature in zip(*cluster)]\n",
    "        centroids.append(new_centroid)\n",
    "    return centroids"
   ]
  },
  {
   "cell_type": "markdown",
   "metadata": {},
   "source": [
    "KMeans Algorithm"
   ]
  },
  {
   "cell_type": "code",
   "execution_count": 8,
   "metadata": {},
   "outputs": [],
   "source": [
    "def kmeans(data, k, max_iterations=100):\n",
    "    data = standardize(data)\n",
    "    centroids = initialize_centroids(data, k)\n",
    "    for _ in range(max_iterations):\n",
    "        clusters = assign_points_to_centroids(data, centroids)\n",
    "        new_centroids = calculate_new_centroids(clusters)\n",
    "        if new_centroids == centroids:\n",
    "            break\n",
    "        centroids = new_centroids\n",
    "    return centroids, clusters"
   ]
  },
  {
   "cell_type": "markdown",
   "metadata": {},
   "source": [
    "Example Usage"
   ]
  },
  {
   "cell_type": "code",
   "execution_count": 9,
   "metadata": {},
   "outputs": [
    {
     "name": "stdout",
     "output_type": "stream",
     "text": [
      "Centroids: [[0.0, -1.224744871391589], [0.0, 0.6123724356957945]]\n",
      "Clusters: [[[-1.0, -1.224744871391589], [1.0, -1.224744871391589]], [[-1.0, 0.0], [-1.0, 1.224744871391589], [1.0, 0.0], [1.0, 1.224744871391589]]]\n"
     ]
    }
   ],
   "source": [
    "# Example Data\n",
    "data = [[1, 2], [1, 4], [1, 0], [10, 2], [10, 4], [10, 0]]\n",
    "\n",
    "# Number of Clusters\n",
    "k = 2\n",
    "\n",
    "# Run KMeans\n",
    "centroids, clusters = kmeans(data, k)\n",
    "\n",
    "print(\"Centroids:\", centroids)\n",
    "print(\"Clusters:\", clusters)"
   ]
  }
 ],
 "metadata": {
  "kernelspec": {
   "display_name": "base",
   "language": "python",
   "name": "python3"
  },
  "language_info": {
   "codemirror_mode": {
    "name": "ipython",
    "version": 3
   },
   "file_extension": ".py",
   "mimetype": "text/x-python",
   "name": "python",
   "nbconvert_exporter": "python",
   "pygments_lexer": "ipython3",
   "version": "3.9.18"
  }
 },
 "nbformat": 4,
 "nbformat_minor": 2
}
