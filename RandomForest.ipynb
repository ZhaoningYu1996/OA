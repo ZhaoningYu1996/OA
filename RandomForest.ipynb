{
 "cells": [
  {
   "cell_type": "markdown",
   "metadata": {},
   "source": [
    "Bootstrap Sampling Function"
   ]
  },
  {
   "cell_type": "code",
   "execution_count": 1,
   "metadata": {},
   "outputs": [],
   "source": [
    "import random\n",
    "\n",
    "def bootstrap_sample(X, y):\n",
    "    n_samples = len(X)\n",
    "    indices = [random.randint(0, n_samples - 1) for _ in range(n_samples)]\n",
    "    return [X[idx] for idx in indices], [y[idx] for idx in indices]"
   ]
  },
  {
   "cell_type": "code",
   "execution_count": null,
   "metadata": {},
   "outputs": [],
   "source": [
    "sampled_data = np.random.choice(data, size=n_samples, replace=True)"
   ]
  },
  {
   "cell_type": "markdown",
   "metadata": {},
   "source": [
    "Feature Sampling Function"
   ]
  },
  {
   "cell_type": "code",
   "execution_count": 2,
   "metadata": {},
   "outputs": [],
   "source": [
    "def get_random_features(X, max_features):\n",
    "    n_features = len(X[0])\n",
    "    features_indices = list(range(n_features))\n",
    "    random.shuffle(features_indices)\n",
    "    return features_indices[:max_features]"
   ]
  },
  {
   "cell_type": "markdown",
   "metadata": {},
   "source": [
    "Decision Tree (Modified for Random Forest)"
   ]
  },
  {
   "cell_type": "code",
   "execution_count": null,
   "metadata": {},
   "outputs": [],
   "source": [
    "def build_tree_rf(X, y, max_features):\n",
    "    # Your decision tree code, but modify it to use 'get_random_features'\n",
    "    # to select a subset of features for each split\n",
    "    # ..."
   ]
  },
  {
   "cell_type": "markdown",
   "metadata": {},
   "source": [
    "Random Forest Training Function"
   ]
  },
  {
   "cell_type": "code",
   "execution_count": null,
   "metadata": {},
   "outputs": [],
   "source": [
    "def random_forest(X, y, n_trees, max_features):\n",
    "    trees = []\n",
    "    for _ in range(n_trees):\n",
    "        X_sample, y_sample = bootstrap_sample(X, y)\n",
    "        tree = build_tree_rf(X_sample, y_sample, max_features)\n",
    "        trees.append(tree)\n",
    "    return trees"
   ]
  },
  {
   "cell_type": "markdown",
   "metadata": {},
   "source": [
    "Prediction Function"
   ]
  },
  {
   "cell_type": "code",
   "execution_count": null,
   "metadata": {},
   "outputs": [],
   "source": [
    "def predict_rf(trees, x):\n",
    "    predictions = [predict(tree, x) for tree in trees]\n",
    "    return max(set(predictions), key=predictions.count)"
   ]
  },
  {
   "cell_type": "code",
   "execution_count": null,
   "metadata": {},
   "outputs": [],
   "source": [
    "# Example data\n",
    "X = [[...], [...], ...]  # Your feature data\n",
    "y = [...]  # Your target labels\n",
    "\n",
    "n_trees = 10\n",
    "max_features = int(len(X[0]) ** 0.5)  # Common choice for classification\n",
    "\n",
    "# Train the Random Forest\n",
    "forest = random_forest(X, y, n_trees, max_features)\n",
    "\n",
    "# Predict using the Random Forest\n",
    "sample = [...]  # New sample for prediction\n",
    "prediction = predict_rf(forest, sample)\n",
    "print(\"Random Forest Prediction:\", prediction)\n"
   ]
  }
 ],
 "metadata": {
  "kernelspec": {
   "display_name": "base",
   "language": "python",
   "name": "python3"
  },
  "language_info": {
   "codemirror_mode": {
    "name": "ipython",
    "version": 3
   },
   "file_extension": ".py",
   "mimetype": "text/x-python",
   "name": "python",
   "nbconvert_exporter": "python",
   "pygments_lexer": "ipython3",
   "version": "3.9.18"
  }
 },
 "nbformat": 4,
 "nbformat_minor": 2
}
